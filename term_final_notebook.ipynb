{
 "cells": [
  {
   "cell_type": "markdown",
   "id": "72ada876",
   "metadata": {},
   "source": [
    "# Class Competition"
   ]
  },
  {
   "cell_type": "markdown",
   "id": "a0a5504c",
   "metadata": {},
   "source": [
    "## Fictional background"
   ]
  },
  {
   "cell_type": "markdown",
   "id": "4e9be462",
   "metadata": {},
   "source": [
    "Marvin works at the last Blockbusta Videoz (a fictional video rental shop) where his task is to classify movie and TV show reviews to help curate a special section of the store.\n",
    "\n",
    "One day while perusing his favorite website, Marvin came upon a post about someone who secretly automated their job and then quietly took off on a long (paid) vacation. Inspired, Marvin set aside a portion of his salary to hire a developer to write a few scripts to scrape movie reviews from various sources. It's a bit noisy, but aggregating many reviews has cut the time he previously spent on his job by half.\n",
    "\n",
    "Now, after reading an article about AI, Marvin wants to take things a step further: he is searching for a program that can determine a) whether or not a piece of text is a movie/TV show review and b) whether or not each review is positive (the movie/TV show is recommended) or negative (the movie/TV show should be avoided).\n",
    "\n",
    "Marvin has put together a competition and advertised it on Fraggle (a fictional platform for competitive data science)."
   ]
  },
  {
   "cell_type": "markdown",
   "id": "0070c5c5",
   "metadata": {},
   "source": [
    "Classify the documents as one of the following categories:\n",
    "\n",
    "* Not a (movie/TV show) review\n",
    "* Positive (movie/TV show) review\n",
    "* Negative (movie/TV show) review"
   ]
  },
  {
   "cell_type": "code",
   "execution_count": 1,
   "id": "c5b54508",
   "metadata": {},
   "outputs": [],
   "source": [
    "NAME = \"Swati Das\"\n",
    "# University of Arizona email address\n",
    "EMAIL = \"swatidas@arizona.edu\""
   ]
  },
  {
   "cell_type": "markdown",
   "id": "a93d6862",
   "metadata": {},
   "source": [
    "### Library Installation and Import"
   ]
  },
  {
   "cell_type": "markdown",
   "id": "a477460a",
   "metadata": {},
   "source": [
    "This section installs and imports the necessary libraries for the project. It includes:\n",
    "\n",
    "* NLTK (Natural Language Toolkit): A comprehensive library for natural language processing.\n",
    "* Pandas: A powerful data manipulation library.\n",
    "* Scikit-learn: A machine learning library in Python.\n",
    "* Matplotlib: A plotting library for Python.\n",
    "* Re (Regular Expression): A module for working with regular expressions.\n",
    "* Typing: A module for supporting type hints.\n",
    "* NumPy: A fundamental package for scientific computing with Python."
   ]
  },
  {
   "cell_type": "code",
   "execution_count": 2,
   "id": "087f5b18",
   "metadata": {},
   "outputs": [
    {
     "name": "stdout",
     "output_type": "stream",
     "text": [
      "Requirement already satisfied: nltk in /usr/local/lib/python3.8/site-packages (3.8.1)\n",
      "Requirement already satisfied: click in /usr/local/lib/python3.8/site-packages (from nltk) (8.1.7)\n",
      "Requirement already satisfied: regex>=2021.8.3 in /usr/local/lib/python3.8/site-packages (from nltk) (2024.4.28)\n",
      "Requirement already satisfied: joblib in /usr/local/lib/python3.8/site-packages (from nltk) (1.2.0)\n",
      "Requirement already satisfied: tqdm in /usr/local/lib/python3.8/site-packages (from nltk) (4.66.2)\n",
      "\u001b[33mWARNING: Running pip as the 'root' user can result in broken permissions and conflicting behaviour with the system package manager. It is recommended to use a virtual environment instead: https://pip.pypa.io/warnings/venv\u001b[0m\u001b[33m\n",
      "\u001b[0m\n",
      "\u001b[1m[\u001b[0m\u001b[34;49mnotice\u001b[0m\u001b[1;39;49m]\u001b[0m\u001b[39;49m A new release of pip is available: \u001b[0m\u001b[31;49m23.0\u001b[0m\u001b[39;49m -> \u001b[0m\u001b[32;49m24.0\u001b[0m\n",
      "\u001b[1m[\u001b[0m\u001b[34;49mnotice\u001b[0m\u001b[1;39;49m]\u001b[0m\u001b[39;49m To update, run: \u001b[0m\u001b[32;49mpip install --upgrade pip\u001b[0m\n"
     ]
    }
   ],
   "source": [
    "!pip install nltk"
   ]
  },
  {
   "cell_type": "code",
   "execution_count": 3,
   "id": "ed850bcd",
   "metadata": {},
   "outputs": [
    {
     "name": "stderr",
     "output_type": "stream",
     "text": [
      "[nltk_data] Downloading package punkt to /root/nltk_data...\n",
      "[nltk_data]   Package punkt is already up-to-date!\n",
      "[nltk_data] Downloading package wordnet to /root/nltk_data...\n",
      "[nltk_data]   Package wordnet is already up-to-date!\n"
     ]
    }
   ],
   "source": [
    "import pandas as pd\n",
    "from sklearn.feature_extraction.text import TfidfVectorizer\n",
    "from sklearn.svm import LinearSVC\n",
    "from sklearn.metrics import confusion_matrix\n",
    "from nltk.tokenize import word_tokenize\n",
    "import nltk\n",
    "nltk.download('punkt')\n",
    "nltk.download('wordnet')\n",
    "from sklearn.linear_model import LogisticRegression\n",
    "import matplotlib.pyplot as plt\n",
    "from typing import Iterable, Text, Union\n",
    "from numpy import ndarray as NDArray\n",
    "from sklearn.metrics import accuracy_score\n",
    "import re\n",
    "from sklearn.metrics import f1_score, confusion_matrix\n",
    "from sklearn.metrics import plot_confusion_matrix"
   ]
  },
  {
   "cell_type": "markdown",
   "id": "bcbfd138",
   "metadata": {},
   "source": [
    "### Data Loading and Exploration"
   ]
  },
  {
   "cell_type": "markdown",
   "id": "80e2d0e3",
   "metadata": {},
   "source": [
    "In this section, the notebook loads the training(train_df) and testing(test_df) datasets. It then provides an overview of the datasets.\n",
    "\n",
    "The training dataset consists of three columns:\n",
    "\n",
    "* ID: Unique identifier for each data entry.\n",
    "* TEXT: The review of the movie or TV show review.\n",
    "* LABEL: The label indicating the sentiment of the review (0 for not a review, 1 for positive, 2 for negative).\n",
    "\n",
    "The test dataset contains two columns:\n",
    "\n",
    "* ID: Unique identifier for each data entry.\n",
    "* TEXT: The text content of the movie or TV show review"
   ]
  },
  {
   "cell_type": "code",
   "execution_count": 4,
   "id": "21ba2c8c",
   "metadata": {},
   "outputs": [],
   "source": [
    "train_df = pd.read_csv(\"data/train.csv\")\n",
    "test_df = pd.read_csv(\"data/test.csv\")"
   ]
  },
  {
   "cell_type": "code",
   "execution_count": 5,
   "id": "5592fc62",
   "metadata": {},
   "outputs": [
    {
     "data": {
      "text/html": [
       "<div>\n",
       "<style scoped>\n",
       "    .dataframe tbody tr th:only-of-type {\n",
       "        vertical-align: middle;\n",
       "    }\n",
       "\n",
       "    .dataframe tbody tr th {\n",
       "        vertical-align: top;\n",
       "    }\n",
       "\n",
       "    .dataframe thead th {\n",
       "        text-align: right;\n",
       "    }\n",
       "</style>\n",
       "<table border=\"1\" class=\"dataframe\">\n",
       "  <thead>\n",
       "    <tr style=\"text-align: right;\">\n",
       "      <th></th>\n",
       "      <th>ID</th>\n",
       "      <th>TEXT</th>\n",
       "      <th>LABEL</th>\n",
       "    </tr>\n",
       "  </thead>\n",
       "  <tbody>\n",
       "    <tr>\n",
       "      <th>0</th>\n",
       "      <td>7850790573542594519</td>\n",
       "      <td>If you love good films don't ever buy this pei...</td>\n",
       "      <td>2</td>\n",
       "    </tr>\n",
       "    <tr>\n",
       "      <th>1</th>\n",
       "      <td>9392069522632994700</td>\n",
       "      <td>The 33 percent of the nations nitwits that sti...</td>\n",
       "      <td>2</td>\n",
       "    </tr>\n",
       "    <tr>\n",
       "      <th>2</th>\n",
       "      <td>5083704536542443514</td>\n",
       "      <td>I saw Anatomy years ago -- dubbed at a friends...</td>\n",
       "      <td>1</td>\n",
       "    </tr>\n",
       "    <tr>\n",
       "      <th>3</th>\n",
       "      <td>12418349755186772171</td>\n",
       "      <td>Dark Remains is a home run plain and simple. T...</td>\n",
       "      <td>1</td>\n",
       "    </tr>\n",
       "    <tr>\n",
       "      <th>4</th>\n",
       "      <td>12144957944004619479</td>\n",
       "      <td>Feh. This movie started out in an interesting ...</td>\n",
       "      <td>2</td>\n",
       "    </tr>\n",
       "    <tr>\n",
       "      <th>5</th>\n",
       "      <td>149196648365871032</td>\n",
       "      <td>I paid something like 89 cents for this book t...</td>\n",
       "      <td>0</td>\n",
       "    </tr>\n",
       "    <tr>\n",
       "      <th>6</th>\n",
       "      <td>795160300776864438</td>\n",
       "      <td>Series 2 has got off to a great start! I don't...</td>\n",
       "      <td>1</td>\n",
       "    </tr>\n",
       "    <tr>\n",
       "      <th>7</th>\n",
       "      <td>1683320143918265581</td>\n",
       "      <td>I admit I bought this book and a few other off...</td>\n",
       "      <td>0</td>\n",
       "    </tr>\n",
       "    <tr>\n",
       "      <th>8</th>\n",
       "      <td>16870111134185498931</td>\n",
       "      <td>My son loves Star Wars...I do not...but I do l...</td>\n",
       "      <td>1</td>\n",
       "    </tr>\n",
       "    <tr>\n",
       "      <th>9</th>\n",
       "      <td>4994537575152965727</td>\n",
       "      <td>This noir may not be the best remembered film ...</td>\n",
       "      <td>1</td>\n",
       "    </tr>\n",
       "  </tbody>\n",
       "</table>\n",
       "</div>"
      ],
      "text/plain": [
       "                     ID                                               TEXT  \\\n",
       "0   7850790573542594519  If you love good films don't ever buy this pei...   \n",
       "1   9392069522632994700  The 33 percent of the nations nitwits that sti...   \n",
       "2   5083704536542443514  I saw Anatomy years ago -- dubbed at a friends...   \n",
       "3  12418349755186772171  Dark Remains is a home run plain and simple. T...   \n",
       "4  12144957944004619479  Feh. This movie started out in an interesting ...   \n",
       "5    149196648365871032  I paid something like 89 cents for this book t...   \n",
       "6    795160300776864438  Series 2 has got off to a great start! I don't...   \n",
       "7   1683320143918265581  I admit I bought this book and a few other off...   \n",
       "8  16870111134185498931  My son loves Star Wars...I do not...but I do l...   \n",
       "9   4994537575152965727  This noir may not be the best remembered film ...   \n",
       "\n",
       "   LABEL  \n",
       "0      2  \n",
       "1      2  \n",
       "2      1  \n",
       "3      1  \n",
       "4      2  \n",
       "5      0  \n",
       "6      1  \n",
       "7      0  \n",
       "8      1  \n",
       "9      1  "
      ]
     },
     "execution_count": 5,
     "metadata": {},
     "output_type": "execute_result"
    }
   ],
   "source": [
    "train_df.head(10)"
   ]
  },
  {
   "cell_type": "code",
   "execution_count": 6,
   "id": "f8ffdfeb",
   "metadata": {},
   "outputs": [
    {
     "data": {
      "text/plain": [
       "(70317, 3)"
      ]
     },
     "execution_count": 6,
     "metadata": {},
     "output_type": "execute_result"
    }
   ],
   "source": [
    "train_df.shape"
   ]
  },
  {
   "cell_type": "code",
   "execution_count": 7,
   "id": "1f7fd518",
   "metadata": {},
   "outputs": [
    {
     "data": {
      "text/plain": [
       "(17580, 2)"
      ]
     },
     "execution_count": 7,
     "metadata": {},
     "output_type": "execute_result"
    }
   ],
   "source": [
    "test_df.shape"
   ]
  },
  {
   "cell_type": "code",
   "execution_count": 8,
   "id": "27afee41",
   "metadata": {},
   "outputs": [
    {
     "data": {
      "text/html": [
       "<div>\n",
       "<style scoped>\n",
       "    .dataframe tbody tr th:only-of-type {\n",
       "        vertical-align: middle;\n",
       "    }\n",
       "\n",
       "    .dataframe tbody tr th {\n",
       "        vertical-align: top;\n",
       "    }\n",
       "\n",
       "    .dataframe thead th {\n",
       "        text-align: right;\n",
       "    }\n",
       "</style>\n",
       "<table border=\"1\" class=\"dataframe\">\n",
       "  <thead>\n",
       "    <tr style=\"text-align: right;\">\n",
       "      <th></th>\n",
       "      <th>ID</th>\n",
       "      <th>TEXT</th>\n",
       "    </tr>\n",
       "  </thead>\n",
       "  <tbody>\n",
       "    <tr>\n",
       "      <th>0</th>\n",
       "      <td>4728459160322025755</td>\n",
       "      <td>An excellent debut movie for the the director ...</td>\n",
       "    </tr>\n",
       "    <tr>\n",
       "      <th>1</th>\n",
       "      <td>1840432070229003467</td>\n",
       "      <td>If you have a preschooler or remember how stre...</td>\n",
       "    </tr>\n",
       "    <tr>\n",
       "      <th>2</th>\n",
       "      <td>12623336783082722606</td>\n",
       "      <td>What should have been a routine babysitting gi...</td>\n",
       "    </tr>\n",
       "    <tr>\n",
       "      <th>3</th>\n",
       "      <td>7446733850828603409</td>\n",
       "      <td>Cute but</td>\n",
       "    </tr>\n",
       "    <tr>\n",
       "      <th>4</th>\n",
       "      <td>16180660281866613068</td>\n",
       "      <td>Elvis Presley plays a \"half-breed\" Native Amer...</td>\n",
       "    </tr>\n",
       "  </tbody>\n",
       "</table>\n",
       "</div>"
      ],
      "text/plain": [
       "                     ID                                               TEXT\n",
       "0   4728459160322025755  An excellent debut movie for the the director ...\n",
       "1   1840432070229003467  If you have a preschooler or remember how stre...\n",
       "2  12623336783082722606  What should have been a routine babysitting gi...\n",
       "3   7446733850828603409                                           Cute but\n",
       "4  16180660281866613068  Elvis Presley plays a \"half-breed\" Native Amer..."
      ]
     },
     "execution_count": 8,
     "metadata": {},
     "output_type": "execute_result"
    }
   ],
   "source": [
    "test_df.head()"
   ]
  },
  {
   "cell_type": "markdown",
   "id": "38a0b321",
   "metadata": {},
   "source": [
    "### Handling Missing Values"
   ]
  },
  {
   "cell_type": "markdown",
   "id": "9df498b7",
   "metadata": {},
   "source": [
    "This section of the notebook deals with the handling of missing values in the training and testing datasets."
   ]
  },
  {
   "cell_type": "code",
   "execution_count": 9,
   "id": "7549e9b8",
   "metadata": {},
   "outputs": [
    {
     "data": {
      "text/plain": [
       "ID       0\n",
       "TEXT     6\n",
       "LABEL    0\n",
       "dtype: int64"
      ]
     },
     "execution_count": 9,
     "metadata": {},
     "output_type": "execute_result"
    }
   ],
   "source": [
    "train_df.isna().sum()"
   ]
  },
  {
   "cell_type": "code",
   "execution_count": 10,
   "id": "c68ca689",
   "metadata": {},
   "outputs": [
    {
     "name": "stdout",
     "output_type": "stream",
     "text": [
      "Rows with empty values:\n",
      "Int64Index([1948, 12630, 20910, 48295, 56333, 67550], dtype='int64')\n"
     ]
    }
   ],
   "source": [
    "train_empty_values_per_row = train_df.isna().sum(axis=1)\n",
    "empty_rows = train_empty_values_per_row[train_empty_values_per_row > 0].index\n",
    "print(\"Rows with empty values:\")\n",
    "print(empty_rows)"
   ]
  },
  {
   "cell_type": "code",
   "execution_count": 11,
   "id": "3108dec4",
   "metadata": {},
   "outputs": [
    {
     "data": {
      "text/plain": [
       "ID      0\n",
       "TEXT    1\n",
       "dtype: int64"
      ]
     },
     "execution_count": 11,
     "metadata": {},
     "output_type": "execute_result"
    }
   ],
   "source": [
    "test_df.isna().sum()"
   ]
  },
  {
   "cell_type": "code",
   "execution_count": 12,
   "id": "9b7dcfa9",
   "metadata": {},
   "outputs": [
    {
     "name": "stdout",
     "output_type": "stream",
     "text": [
      "                         ID TEXT  LABEL\n",
      "1948   13508688890785489498  NaN      0\n",
      "12630  17294071000633575886  NaN      0\n",
      "20910  13709585650072749007  NaN      0\n",
      "48295  15956250804379203815  NaN      0\n",
      "56333    856590162040554499  NaN      0\n",
      "67550  14966087743691161674  NaN      0\n"
     ]
    }
   ],
   "source": [
    "empty_row_indices = [1948, 12630, 20910, 48295, 56333, 67550]\n",
    "empty_rows = train_df.iloc[empty_row_indices]\n",
    "print(empty_rows)"
   ]
  },
  {
   "cell_type": "code",
   "execution_count": 13,
   "id": "1c4ebbc3",
   "metadata": {},
   "outputs": [],
   "source": [
    "train_df['TEXT'].fillna('no review yet', inplace=True)"
   ]
  },
  {
   "cell_type": "code",
   "execution_count": 14,
   "id": "10867c7f",
   "metadata": {},
   "outputs": [
    {
     "data": {
      "text/plain": [
       "ID       0\n",
       "TEXT     0\n",
       "LABEL    0\n",
       "dtype: int64"
      ]
     },
     "execution_count": 14,
     "metadata": {},
     "output_type": "execute_result"
    }
   ],
   "source": [
    "train_df.isna().sum()"
   ]
  },
  {
   "cell_type": "code",
   "execution_count": 15,
   "id": "e0e6911c",
   "metadata": {},
   "outputs": [
    {
     "data": {
      "text/plain": [
       "ID       13508688890785489498\n",
       "TEXT            no review yet\n",
       "LABEL                       0\n",
       "Name: 1948, dtype: object"
      ]
     },
     "execution_count": 15,
     "metadata": {},
     "output_type": "execute_result"
    }
   ],
   "source": [
    "train_df.iloc[1948]"
   ]
  },
  {
   "cell_type": "code",
   "execution_count": 16,
   "id": "88632200",
   "metadata": {},
   "outputs": [
    {
     "data": {
      "text/plain": [
       "ID       17294071000633575886\n",
       "TEXT            no review yet\n",
       "LABEL                       0\n",
       "Name: 12630, dtype: object"
      ]
     },
     "execution_count": 16,
     "metadata": {},
     "output_type": "execute_result"
    }
   ],
   "source": [
    "train_df.iloc[12630]"
   ]
  },
  {
   "cell_type": "code",
   "execution_count": 17,
   "id": "1b01ad9b",
   "metadata": {},
   "outputs": [],
   "source": [
    "test_df['TEXT'].fillna('no review yet', inplace=True)"
   ]
  },
  {
   "cell_type": "code",
   "execution_count": 18,
   "id": "73b6041c",
   "metadata": {},
   "outputs": [
    {
     "data": {
      "text/plain": [
       "ID      0\n",
       "TEXT    0\n",
       "dtype: int64"
      ]
     },
     "execution_count": 18,
     "metadata": {},
     "output_type": "execute_result"
    }
   ],
   "source": [
    "test_df.isna().sum()"
   ]
  },
  {
   "cell_type": "markdown",
   "id": "be2a78a6",
   "metadata": {},
   "source": [
    "### Label Mapping"
   ]
  },
  {
   "cell_type": "code",
   "execution_count": 19,
   "id": "d440cea1",
   "metadata": {},
   "outputs": [],
   "source": [
    "label_mapping = {\n",
    "    0: 'Not a movie or TV show review',\n",
    "    1: 'A positive movie or TV show review',\n",
    "    2: 'A negative movie or TV show review'\n",
    "}\n",
    "train_df['Label_desc'] = train_df['LABEL'].map(label_mapping)"
   ]
  },
  {
   "cell_type": "code",
   "execution_count": 20,
   "id": "7c91ef43",
   "metadata": {},
   "outputs": [
    {
     "data": {
      "text/html": [
       "<div>\n",
       "<style scoped>\n",
       "    .dataframe tbody tr th:only-of-type {\n",
       "        vertical-align: middle;\n",
       "    }\n",
       "\n",
       "    .dataframe tbody tr th {\n",
       "        vertical-align: top;\n",
       "    }\n",
       "\n",
       "    .dataframe thead th {\n",
       "        text-align: right;\n",
       "    }\n",
       "</style>\n",
       "<table border=\"1\" class=\"dataframe\">\n",
       "  <thead>\n",
       "    <tr style=\"text-align: right;\">\n",
       "      <th></th>\n",
       "      <th>LABEL</th>\n",
       "      <th>Label_desc</th>\n",
       "    </tr>\n",
       "  </thead>\n",
       "  <tbody>\n",
       "    <tr>\n",
       "      <th>0</th>\n",
       "      <td>2</td>\n",
       "      <td>A negative movie or TV show review</td>\n",
       "    </tr>\n",
       "    <tr>\n",
       "      <th>1</th>\n",
       "      <td>2</td>\n",
       "      <td>A negative movie or TV show review</td>\n",
       "    </tr>\n",
       "    <tr>\n",
       "      <th>2</th>\n",
       "      <td>1</td>\n",
       "      <td>A positive movie or TV show review</td>\n",
       "    </tr>\n",
       "    <tr>\n",
       "      <th>3</th>\n",
       "      <td>1</td>\n",
       "      <td>A positive movie or TV show review</td>\n",
       "    </tr>\n",
       "    <tr>\n",
       "      <th>4</th>\n",
       "      <td>2</td>\n",
       "      <td>A negative movie or TV show review</td>\n",
       "    </tr>\n",
       "    <tr>\n",
       "      <th>5</th>\n",
       "      <td>0</td>\n",
       "      <td>Not a movie or TV show review</td>\n",
       "    </tr>\n",
       "    <tr>\n",
       "      <th>6</th>\n",
       "      <td>1</td>\n",
       "      <td>A positive movie or TV show review</td>\n",
       "    </tr>\n",
       "    <tr>\n",
       "      <th>7</th>\n",
       "      <td>0</td>\n",
       "      <td>Not a movie or TV show review</td>\n",
       "    </tr>\n",
       "    <tr>\n",
       "      <th>8</th>\n",
       "      <td>1</td>\n",
       "      <td>A positive movie or TV show review</td>\n",
       "    </tr>\n",
       "    <tr>\n",
       "      <th>9</th>\n",
       "      <td>1</td>\n",
       "      <td>A positive movie or TV show review</td>\n",
       "    </tr>\n",
       "  </tbody>\n",
       "</table>\n",
       "</div>"
      ],
      "text/plain": [
       "   LABEL                          Label_desc\n",
       "0      2  A negative movie or TV show review\n",
       "1      2  A negative movie or TV show review\n",
       "2      1  A positive movie or TV show review\n",
       "3      1  A positive movie or TV show review\n",
       "4      2  A negative movie or TV show review\n",
       "5      0       Not a movie or TV show review\n",
       "6      1  A positive movie or TV show review\n",
       "7      0       Not a movie or TV show review\n",
       "8      1  A positive movie or TV show review\n",
       "9      1  A positive movie or TV show review"
      ]
     },
     "execution_count": 20,
     "metadata": {},
     "output_type": "execute_result"
    }
   ],
   "source": [
    "train_df[['LABEL', 'Label_desc']].head(10)"
   ]
  },
  {
   "cell_type": "markdown",
   "id": "a23c4989",
   "metadata": {},
   "source": [
    "### Visualization"
   ]
  },
  {
   "cell_type": "markdown",
   "id": "c464cd68",
   "metadata": {},
   "source": [
    "### Bar Graph"
   ]
  },
  {
   "cell_type": "markdown",
   "id": "a065b8cb",
   "metadata": {},
   "source": [
    "Bar graph visualizes the distribution of instances for each label category in the dataset"
   ]
  },
  {
   "cell_type": "code",
   "execution_count": 21,
   "id": "269b9a7d",
   "metadata": {},
   "outputs": [
    {
     "data": {
      "image/png": "[encoded data removed]",
      "text/plain": [
       "<Figure size 800x600 with 1 Axes>"
      ]
     },
     "metadata": {},
     "output_type": "display_data"
    }
   ],
   "source": [
    "label_counts = train_df['Label_desc'].value_counts()\n",
    "colors = ['skyblue', 'salmon', 'lightgreen']\n",
    "plt.figure(figsize=(8, 6))\n",
    "label_counts.plot(kind='bar', color=colors)\n",
    "plt.title('Number of Instances for Each Label Category')\n",
    "plt.xlabel('Label Category')\n",
    "plt.ylabel('Number of Instances')\n",
    "plt.xticks(rotation=45)\n",
    "plt.show()"
   ]
  },
  {
   "cell_type": "markdown",
   "id": "5d5c5275",
   "metadata": {},
   "source": [
    "### Pie Chart"
   ]
  },
  {
   "cell_type": "markdown",
   "id": "fb98dfb2",
   "metadata": {},
   "source": [
    "Pie chart visualizes the distribution of instances for each label category in our dataset"
   ]
  },
  {
   "cell_type": "code",
   "execution_count": 22,
   "id": "30e214eb",
   "metadata": {},
   "outputs": [
    {
     "data": {
      "image/png": "[encoded data removed]",
      "text/plain": [
       "<Figure size 800x600 with 1 Axes>"
      ]
     },
     "metadata": {},
     "output_type": "display_data"
    }
   ],
   "source": [
    "labels = label_counts.index\n",
    "sizes = label_counts.values\n",
    "\n",
    "plt.figure(figsize=(8, 6))\n",
    "plt.pie(sizes, labels=labels, autopct='%1.1f%%', startangle=140)\n",
    "plt.title('Distribution of Label Categories')\n",
    "plt.axis('equal')  \n",
    "plt.show()\n"
   ]
  },
  {
   "cell_type": "markdown",
   "id": "57886329",
   "metadata": {},
   "source": [
    "### TextToFeatures"
   ]
  },
  {
   "cell_type": "markdown",
   "id": "3fe8410b",
   "metadata": {},
   "source": [
    "The class provides a comprehensive solution for converting raw text data into numerical feature representations, facilitating the application of machine learning algorithms to text classification and analysis tasks.\n",
    "\n",
    "1. Initialization: The constructor initializes an object for converting texts to features.\n",
    "2. Custom Preprocessor: The custom_preprocessor function preprocesses the text data using various regular expressions (regex).\n",
    "3. Feature Extraction: The class utilizes the TfidfVectorizer from scikit-learn to extract features from the preprocessed text data.\n",
    "4. Fitting: The fit method fits (\"trains\") the TextToFeatures instance on a collection of documents (training texts).\n",
    "5. Indexing: The index method returns the index in the vocabulary of a given feature value. If the feature is not present, it returns None.\n",
    "6. Transformation: The transform method creates a feature matrix from a sequence of texts. "
   ]
  },
  {
   "cell_type": "code",
   "execution_count": 23,
   "id": "2bc1d6e0",
   "metadata": {},
   "outputs": [],
   "source": [
    "class TextToFeatures:\n",
    "\n",
    "    def __init__(self):\n",
    "        \n",
    "        def custom_preprocessor(text: Text) -> Text:\n",
    "            linebr = r\"<br /><br />?\"\n",
    "            linebr2 = r\"<br />\"\n",
    "            url = r'<a\\s+href=\"([^\"]+)\"'\n",
    "            dash = r'\\x50'\n",
    "            number = number_regex2 = r'\\b\\d{1,4}\\b'\n",
    "            new_line = r'\\n+'\n",
    "            year_term = r'\\b\\d{2,4}s?\\'?s?\\b'\n",
    "            currency = r'[£$]\\d{1,4}(,\\d{3})*(\\.\\d+)?'\n",
    "            text = re.sub(linebr, \" \", text)\n",
    "            text = re.sub(linebr2, \" \", text)\n",
    "            text = re.sub(url, \"<URL>\", text)\n",
    "            text = re.sub(dash, \" \", text)\n",
    "            text = re.sub(number, \"<NUMBER>\", text)\n",
    "            text = re.sub(new_line, \" \", text)\n",
    "            text = re.sub(year_term,\"<YEAR>\", text)\n",
    "            text = re.sub(currency,\"<CURR>\", text)\n",
    "            return text\n",
    "        \n",
    "        self.vectorizer = TfidfVectorizer(lowercase = True, \n",
    "                                          preprocessor=custom_preprocessor, \n",
    "                                          ngram_range=(1, 2), min_df=1, max_df=1.0)\n",
    "    \n",
    "    \n",
    "    \n",
    "    def fit(self, training_texts: Iterable[Text]) -> None:\n",
    "\n",
    "        \"\"\"Fits (\"trains\") a TextToFeature instance on a collection of documents.\n",
    "        The provided training texts are analyzed to determine the vocabulary, \n",
    "        i.e., all feature values that the converter will support. \n",
    "        Each such feature value will be associated with a unique integer index \n",
    "        that may later be accessed via the .index() method.\n",
    "        It is up to the implementer exactly what features to produce from a\n",
    "        text, but the features will always include some single words and some\n",
    "        multi-word expressions (e.g., \"need\" and \"to you\").\n",
    "        :param training_texts: The training texts.\"\"\"\n",
    "        \n",
    "        self.vectorizer.fit(training_texts)\n",
    "    \n",
    "    def index(self, feature: Text) -> Union[None, int]:\n",
    "\n",
    "        \"\"\"\"Returns the index in the vocabulary of the given feature value.  \n",
    "        If the features isn't present, return None.\n",
    "        :param feature: A feature\n",
    "        :return: The unique integer index associated with the feature or None if not present.\n",
    "        \"\"\"\n",
    "\n",
    "        if feature in self.vectorizer.vocabulary_:\n",
    "            return self.vectorizer.vocabulary_[feature]\n",
    "        else:\n",
    "            return None\n",
    "        \n",
    "    def transform(self, texts: Iterable[Text]) -> NDArray:\n",
    "\n",
    "        \"\"\"Creates a feature matrix from a sequence of texts.\n",
    "        Each row of the matrix corresponds to one of the input texts. The value\n",
    "        at index j of row i is the value in the ith text of the feature\n",
    "        associated with the unique integer j.\n",
    "        It is up to the implementer what the value of a feature that is present\n",
    "        in a text should be, though a common choice is 1. Features that are\n",
    "        absent from a text will have the value 0.\n",
    "        :param texts: A sequence of texts.\n",
    "        :return: A matrix, with one row of feature values for each text.\n",
    "        \"\"\"\n",
    "        \n",
    "        return self.vectorizer.transform(texts)"
   ]
  },
  {
   "cell_type": "markdown",
   "id": "ba21c6b7",
   "metadata": {},
   "source": [
    "### Classifier"
   ]
  },
  {
   "cell_type": "markdown",
   "id": "c982239b",
   "metadata": {},
   "source": [
    " \n",
    "1. Initialization: The constructor initializes the classifier, specifying that it will use a Linear Support Vector Classifier (LinearSVC).\n",
    "2. Training: The train method trains the classifier.\n",
    "3. Prediction: The predict method makes predictions."
   ]
  },
  {
   "cell_type": "code",
   "execution_count": 24,
   "id": "68fd43d6",
   "metadata": {},
   "outputs": [],
   "source": [
    "class Classifier:\n",
    "\n",
    "    def __init__(self):\n",
    "\n",
    "        \"\"\"Initalizes the classifier.\"\"\"\n",
    "        \n",
    "        self.model = LinearSVC()\n",
    "\n",
    "    def train(self, features: NDArray, labels: NDArray) -> None:\n",
    "\n",
    "        \"\"\"Trains the classifier using the given training examples.\n",
    "        :param features: A feature matrix, where each row represents a text.\n",
    "        Such matrices will typically be generated via TextToFeatures.\n",
    "        :param labels: A label vector, where each entry represents a label.\n",
    "        Such vectors will typically be generated via TextToLabels.\"\"\"\n",
    "        \n",
    "        self.model.fit(features, labels)\n",
    "        \n",
    "    # just an alias for \"train\"\n",
    "    fit = train\n",
    "    \n",
    "    def predict(self, features: NDArray) -> NDArray:\n",
    "        \n",
    "        \"\"\"Makes predictions for each of the given examples.\n",
    "        :param features: A feature matrix, where each row represents a text.\n",
    "        Such matrices will typically be generated via TextToFeatures.\n",
    "        :return: A prediction vector, where each entry represents a label.\n",
    "        \"\"\"\n",
    "        \n",
    "        return self.model.predict(features)\n"
   ]
  },
  {
   "cell_type": "markdown",
   "id": "d8a55eda",
   "metadata": {},
   "source": [
    "### Text Feature Extraction"
   ]
  },
  {
   "cell_type": "code",
   "execution_count": 25,
   "id": "fec4eecd",
   "metadata": {},
   "outputs": [],
   "source": [
    "text_to_features = TextToFeatures()\n",
    "\n",
    "text_to_features.fit(train_df['TEXT'])\n",
    "\n",
    "train_features = text_to_features.transform(train_df['TEXT'])\n",
    "test_features = text_to_features.transform(test_df['TEXT'])"
   ]
  },
  {
   "cell_type": "markdown",
   "id": "5aee631f",
   "metadata": {},
   "source": [
    "### Classifier Training and Prediction"
   ]
  },
  {
   "cell_type": "code",
   "execution_count": 26,
   "id": "3379f0ff",
   "metadata": {},
   "outputs": [],
   "source": [
    "classifier = Classifier()\n",
    "\n",
    "classifier.train(train_features, train_df['LABEL'])\n",
    "\n",
    "predictions = classifier.predict(test_features)"
   ]
  },
  {
   "cell_type": "markdown",
   "id": "48e934af",
   "metadata": {},
   "source": [
    "### Model Evaluation Metrics"
   ]
  },
  {
   "cell_type": "code",
   "execution_count": 27,
   "id": "17c4860f",
   "metadata": {},
   "outputs": [
    {
     "name": "stdout",
     "output_type": "stream",
     "text": [
      "Training Accuracy: 0.9997440163829515\n"
     ]
    }
   ],
   "source": [
    "train_predictions = classifier.predict(train_features)\n",
    "train_accuracy = accuracy_score(train_df['LABEL'], train_predictions)\n",
    "print(\"Training Accuracy:\", train_accuracy)"
   ]
  },
  {
   "cell_type": "code",
   "execution_count": 28,
   "id": "4043c417",
   "metadata": {},
   "outputs": [
    {
     "name": "stdout",
     "output_type": "stream",
     "text": [
      "Training F1 Score: 0.9997440127155772\n"
     ]
    }
   ],
   "source": [
    "f1score = f1_score(train_df['LABEL'], train_predictions, average='weighted')\n",
    "print(\"Training F1 Score:\", f1score)"
   ]
  },
  {
   "cell_type": "markdown",
   "id": "367f0253",
   "metadata": {},
   "source": [
    "### Submission CSV Generation"
   ]
  },
  {
   "cell_type": "code",
   "execution_count": 29,
   "id": "96d0da18",
   "metadata": {},
   "outputs": [],
   "source": [
    "submission_df = pd.DataFrame({'ID': test_df['ID'], 'LABEL': predictions})\n",
    "\n",
    "submission_df.to_csv('submission.csv', index=False)"
   ]
  },
  {
   "cell_type": "markdown",
   "id": "8c986e11",
   "metadata": {},
   "source": [
    "Calculating the distribution of labels in the submission and prints the count of each unique label."
   ]
  },
  {
   "cell_type": "code",
   "execution_count": 30,
   "id": "a613cab7",
   "metadata": {},
   "outputs": [
    {
     "name": "stdout",
     "output_type": "stream",
     "text": [
      "Number of unique labels:\n",
      "0    8234\n",
      "1    4786\n",
      "2    4560\n",
      "Name: LABEL, dtype: int64\n"
     ]
    }
   ],
   "source": [
    "label_counts = submission_df['LABEL'].value_counts()\n",
    "print(\"Number of unique labels:\")\n",
    "print(label_counts)"
   ]
  },
  {
   "cell_type": "code",
   "execution_count": 31,
   "id": "bed97797",
   "metadata": {},
   "outputs": [
    {
     "data": {
      "text/plain": [
       "(17580, 2)"
      ]
     },
     "execution_count": 31,
     "metadata": {},
     "output_type": "execute_result"
    }
   ],
   "source": [
    "submission_df.shape"
   ]
  },
  {
   "cell_type": "code",
   "execution_count": null,
   "id": "c41fc179",
   "metadata": {},
   "outputs": [],
   "source": []
  }
 ],
 "metadata": {
  "kernelspec": {
   "display_name": "Python 3 (ipykernel)",
   "language": "python",
   "name": "python3"
  },
  "language_info": {
   "codemirror_mode": {
    "name": "ipython",
    "version": 3
   },
   "file_extension": ".py",
   "mimetype": "text/x-python",
   "name": "python",
   "nbconvert_exporter": "python",
   "pygments_lexer": "ipython3",
   "version": "3.8.16"
  }
 },
 "nbformat": 4,
 "nbformat_minor": 5
}
